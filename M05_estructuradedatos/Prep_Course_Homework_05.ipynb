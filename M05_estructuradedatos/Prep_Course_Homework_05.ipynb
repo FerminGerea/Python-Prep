{
 "cells": [
  {
   "attachments": {},
   "cell_type": "markdown",
   "metadata": {},
   "source": [
    "## Estructuras de Datos"
   ]
  },
  {
   "attachments": {},
   "cell_type": "markdown",
   "metadata": {},
   "source": [
    "1) Crear una lista que contenga nombres de ciudades del mundo que contenga más de 5 elementos e imprimir por pantalla"
   ]
  },
  {
   "cell_type": "code",
   "execution_count": 20,
   "metadata": {},
   "outputs": [
    {
     "name": "stdout",
     "output_type": "stream",
     "text": [
      "['Paris', 'Lisboa', 'Miami', 'Madrid', 'Roma', 'Tokio']\n"
     ]
    }
   ],
   "source": [
    "ciudades = [\"Paris\", \"Lisboa\", \"Miami\", \"Madrid\", \"Roma\", \"Tokio\"]\n",
    "print(ciudades)"
   ]
  },
  {
   "attachments": {},
   "cell_type": "markdown",
   "metadata": {},
   "source": [
    "2) Imprimir por pantalla el segundo elemento de la lista"
   ]
  },
  {
   "cell_type": "code",
   "execution_count": 21,
   "metadata": {},
   "outputs": [
    {
     "name": "stdout",
     "output_type": "stream",
     "text": [
      "Lisboa\n"
     ]
    }
   ],
   "source": [
    "print(ciudades[1])"
   ]
  },
  {
   "attachments": {},
   "cell_type": "markdown",
   "metadata": {},
   "source": [
    "3) Imprimir por pantalla del segundo al cuarto elemento"
   ]
  },
  {
   "cell_type": "code",
   "execution_count": 22,
   "metadata": {},
   "outputs": [
    {
     "name": "stdout",
     "output_type": "stream",
     "text": [
      "['Lisboa', 'Miami', 'Madrid']\n"
     ]
    }
   ],
   "source": [
    "print(ciudades[1:4])"
   ]
  },
  {
   "attachments": {},
   "cell_type": "markdown",
   "metadata": {},
   "source": [
    "4) Visualizar el tipo de dato de la lista"
   ]
  },
  {
   "cell_type": "code",
   "execution_count": 23,
   "metadata": {},
   "outputs": [
    {
     "name": "stdout",
     "output_type": "stream",
     "text": [
      "<class 'str'>\n"
     ]
    }
   ],
   "source": [
    "print(type(ciudades[1]))"
   ]
  },
  {
   "attachments": {},
   "cell_type": "markdown",
   "metadata": {},
   "source": [
    "5) Visualizar todos los elementos de la lista a partir del tercero de manera genérica, es decir, sin explicitar la posición del último elemento"
   ]
  },
  {
   "cell_type": "code",
   "execution_count": 25,
   "metadata": {},
   "outputs": [
    {
     "name": "stdout",
     "output_type": "stream",
     "text": [
      "['Miami', 'Madrid', 'Roma', 'Tokio']\n"
     ]
    }
   ],
   "source": [
    "print(ciudades[2:])"
   ]
  },
  {
   "attachments": {},
   "cell_type": "markdown",
   "metadata": {},
   "source": [
    "6) Visualizar los primeros 4 elementos de la lista"
   ]
  },
  {
   "cell_type": "code",
   "execution_count": 13,
   "metadata": {},
   "outputs": [
    {
     "name": "stdout",
     "output_type": "stream",
     "text": [
      "['Paris', 'Lisboa', 'Miami', 'Madrid']\n"
     ]
    }
   ],
   "source": [
    "print(ciudades[:4])"
   ]
  },
  {
   "attachments": {},
   "cell_type": "markdown",
   "metadata": {},
   "source": [
    "7) Agregar una ciudad más a la lista que ya exista y otra que no ¿Arroja algún tipo de error?"
   ]
  },
  {
   "cell_type": "code",
   "execution_count": 26,
   "metadata": {},
   "outputs": [
    {
     "name": "stdout",
     "output_type": "stream",
     "text": [
      "['Paris', 'Lisboa', 'Miami', 'Madrid', 'Roma', 'Tokio', 'Miami', 'Sidney']\n"
     ]
    }
   ],
   "source": [
    "ciudades.append(\"Miami\")\n",
    "ciudades.append(\"Sidney\")\n",
    "print(ciudades)"
   ]
  },
  {
   "attachments": {},
   "cell_type": "markdown",
   "metadata": {},
   "source": [
    "8) Agregar otra ciudad, pero en la cuarta posición"
   ]
  },
  {
   "cell_type": "code",
   "execution_count": 28,
   "metadata": {},
   "outputs": [
    {
     "name": "stdout",
     "output_type": "stream",
     "text": [
      "['Paris', 'Lisboa', 'Miami', 'Asuncion', 'Madrid', 'Roma', 'Tokio', 'Miami', 'Sidney']\n"
     ]
    }
   ],
   "source": [
    "ciudades.insert(3,\"Asuncion\")\n",
    "print(ciudades)"
   ]
  },
  {
   "attachments": {},
   "cell_type": "markdown",
   "metadata": {},
   "source": [
    "9) Concatenar otra lista a la ya creada"
   ]
  },
  {
   "cell_type": "code",
   "execution_count": 29,
   "metadata": {},
   "outputs": [
    {
     "name": "stdout",
     "output_type": "stream",
     "text": [
      "['Paris', 'Lisboa', 'Miami', 'Asuncion', 'Madrid', 'Roma', 'Tokio', 'Miami', 'Sidney', 'El Cairo', 'Brasilia', 'Lima']\n"
     ]
    }
   ],
   "source": [
    "ciudades_extra = [\"El Cairo\", \"Brasilia\", \"Lima\"]\n",
    "ciudades.extend(ciudades_extra)\n",
    "print(ciudades)"
   ]
  },
  {
   "attachments": {},
   "cell_type": "markdown",
   "metadata": {},
   "source": [
    "10) Encontrar el índice de la ciudad que en el punto 7 agregamos duplicada. ¿Se nota alguna particularidad?"
   ]
  },
  {
   "cell_type": "code",
   "execution_count": 30,
   "metadata": {},
   "outputs": [
    {
     "data": {
      "text/plain": [
       "2"
      ]
     },
     "execution_count": 30,
     "metadata": {},
     "output_type": "execute_result"
    }
   ],
   "source": [
    "ciudades.index(\"Miami\")"
   ]
  },
  {
   "attachments": {},
   "cell_type": "markdown",
   "metadata": {},
   "source": [
    "11) ¿Qué pasa si se busca un elemento que no existe?"
   ]
  },
  {
   "attachments": {},
   "cell_type": "markdown",
   "metadata": {},
   "source": [
    "Si se busca un elemento que no existe,me devuelve un error."
   ]
  },
  {
   "cell_type": "code",
   "execution_count": 31,
   "metadata": {},
   "outputs": [
    {
     "ename": "ValueError",
     "evalue": "'Toronto' is not in list",
     "output_type": "error",
     "traceback": [
      "\u001b[1;31m---------------------------------------------------------------------------\u001b[0m",
      "\u001b[1;31mValueError\u001b[0m                                Traceback (most recent call last)",
      "Cell \u001b[1;32mIn[31], line 1\u001b[0m\n\u001b[1;32m----> 1\u001b[0m ciudades\u001b[39m.\u001b[39;49mindex(\u001b[39m\"\u001b[39;49m\u001b[39mToronto\u001b[39;49m\u001b[39m\"\u001b[39;49m)\n",
      "\u001b[1;31mValueError\u001b[0m: 'Toronto' is not in list"
     ]
    }
   ],
   "source": [
    "ciudades.index(\"Toronto\")"
   ]
  },
  {
   "attachments": {},
   "cell_type": "markdown",
   "metadata": {},
   "source": [
    "12) Eliminar un elemento de la lista"
   ]
  },
  {
   "cell_type": "code",
   "execution_count": 32,
   "metadata": {},
   "outputs": [
    {
     "name": "stdout",
     "output_type": "stream",
     "text": [
      "['Paris', 'Lisboa', 'Miami', 'Asuncion', 'Madrid', 'Roma', 'Tokio', 'Miami', 'Sidney', 'El Cairo', 'Brasilia', 'Lima']\n",
      "['Paris', 'Lisboa', 'Asuncion', 'Madrid', 'Roma', 'Tokio', 'Miami', 'Sidney', 'El Cairo', 'Brasilia', 'Lima']\n"
     ]
    }
   ],
   "source": [
    "print(ciudades)\n",
    "ciudades.remove(\"Miami\")\n",
    "print(ciudades)"
   ]
  },
  {
   "attachments": {},
   "cell_type": "markdown",
   "metadata": {},
   "source": [
    "13) ¿Qué pasa si el elemento a eliminar no existe?"
   ]
  },
  {
   "attachments": {},
   "cell_type": "markdown",
   "metadata": {},
   "source": [
    "Si el elemento a eliminar no existe,me devuelve un error."
   ]
  },
  {
   "cell_type": "code",
   "execution_count": 33,
   "metadata": {},
   "outputs": [
    {
     "ename": "ValueError",
     "evalue": "list.remove(x): x not in list",
     "output_type": "error",
     "traceback": [
      "\u001b[1;31m---------------------------------------------------------------------------\u001b[0m",
      "\u001b[1;31mValueError\u001b[0m                                Traceback (most recent call last)",
      "Cell \u001b[1;32mIn[33], line 1\u001b[0m\n\u001b[1;32m----> 1\u001b[0m ciudades\u001b[39m.\u001b[39;49mremove(\u001b[39m\"\u001b[39;49m\u001b[39mToronto\u001b[39;49m\u001b[39m\"\u001b[39;49m)\n",
      "\u001b[1;31mValueError\u001b[0m: list.remove(x): x not in list"
     ]
    }
   ],
   "source": [
    "ciudades.remove(\"Toronto\")"
   ]
  },
  {
   "attachments": {},
   "cell_type": "markdown",
   "metadata": {},
   "source": [
    "14) Extraer el úlimo elemento de la lista, guardarlo en una variable e imprimirlo"
   ]
  },
  {
   "cell_type": "code",
   "execution_count": 34,
   "metadata": {},
   "outputs": [
    {
     "name": "stdout",
     "output_type": "stream",
     "text": [
      "['Paris', 'Lisboa', 'Asuncion', 'Madrid', 'Roma', 'Tokio', 'Miami', 'Sidney', 'El Cairo', 'Brasilia', 'Lima']\n",
      "['Paris', 'Lisboa', 'Asuncion', 'Madrid', 'Roma', 'Tokio', 'Miami', 'Sidney', 'El Cairo', 'Brasilia']\n",
      "Lima\n"
     ]
    }
   ],
   "source": [
    "print(ciudades)\n",
    "ultima_ciudad = ciudades.pop()\n",
    "print(ciudades)\n",
    "print(ultima_ciudad)\n"
   ]
  },
  {
   "attachments": {},
   "cell_type": "markdown",
   "metadata": {},
   "source": [
    "15) Mostrar la lista multiplicada por 4"
   ]
  },
  {
   "cell_type": "code",
   "execution_count": 35,
   "metadata": {},
   "outputs": [
    {
     "name": "stdout",
     "output_type": "stream",
     "text": [
      "['Paris', 'Lisboa', 'Asuncion', 'Madrid', 'Roma', 'Tokio', 'Miami', 'Sidney', 'El Cairo', 'Brasilia', 'Paris', 'Lisboa', 'Asuncion', 'Madrid', 'Roma', 'Tokio', 'Miami', 'Sidney', 'El Cairo', 'Brasilia', 'Paris', 'Lisboa', 'Asuncion', 'Madrid', 'Roma', 'Tokio', 'Miami', 'Sidney', 'El Cairo', 'Brasilia', 'Paris', 'Lisboa', 'Asuncion', 'Madrid', 'Roma', 'Tokio', 'Miami', 'Sidney', 'El Cairo', 'Brasilia']\n"
     ]
    }
   ],
   "source": [
    "print(ciudades * 4)"
   ]
  },
  {
   "attachments": {},
   "cell_type": "markdown",
   "metadata": {},
   "source": [
    "16) Crear una tupla que contenga los números enteros del 1 al 20"
   ]
  },
  {
   "cell_type": "code",
   "execution_count": 37,
   "metadata": {},
   "outputs": [
    {
     "name": "stdout",
     "output_type": "stream",
     "text": [
      "(1, 2, 3, 4, 5, 6, 7, 8, 9, 10, 11, 12, 13, 14, 15, 16, 17, 18, 19, 20)\n"
     ]
    }
   ],
   "source": [
    "numeros = 1, 2, 3, 4, 5, 6, 7, 8, 9, 10, 11, 12, 13, 14, 15, 16, 17, 18, 19, 20\n",
    "print(numeros)"
   ]
  },
  {
   "attachments": {},
   "cell_type": "markdown",
   "metadata": {},
   "source": [
    "17) Imprimir desde el índice 10 al 15 de la tupla"
   ]
  },
  {
   "cell_type": "code",
   "execution_count": 43,
   "metadata": {},
   "outputs": [
    {
     "data": {
      "text/plain": [
       "(11, 12, 13, 14, 15)"
      ]
     },
     "execution_count": 43,
     "metadata": {},
     "output_type": "execute_result"
    }
   ],
   "source": [
    "numeros[10:15]\n"
   ]
  },
  {
   "attachments": {},
   "cell_type": "markdown",
   "metadata": {},
   "source": [
    "18) Evaluar si los números 20 y 30 están dentro de la tupla"
   ]
  },
  {
   "cell_type": "code",
   "execution_count": 44,
   "metadata": {},
   "outputs": [
    {
     "name": "stdout",
     "output_type": "stream",
     "text": [
      "True\n",
      "False\n"
     ]
    }
   ],
   "source": [
    "print(20 in numeros)#devuelve un bool\n",
    "print(30 in numeros)"
   ]
  },
  {
   "attachments": {},
   "cell_type": "markdown",
   "metadata": {},
   "source": [
    "19) Con la lista creada en el punto 1, validar la existencia del elemento 'París' y si no existe, agregarlo. Utilizar una variable e informar lo sucedido."
   ]
  },
  {
   "cell_type": "code",
   "execution_count": 45,
   "metadata": {},
   "outputs": [
    {
     "name": "stdout",
     "output_type": "stream",
     "text": [
      "True\n"
     ]
    }
   ],
   "source": [
    "print(\"Paris\" in ciudades)"
   ]
  },
  {
   "attachments": {},
   "cell_type": "markdown",
   "metadata": {},
   "source": [
    "20) Mostrar la cantidad de veces que se encuentra un elemento específico dentro de la tupla y de la lista"
   ]
  },
  {
   "cell_type": "code",
   "execution_count": 48,
   "metadata": {},
   "outputs": [
    {
     "name": "stdout",
     "output_type": "stream",
     "text": [
      "(1, 2, 3, 4, 5, 6, 7, 8, 9, 10, 11, 12, 13, 14, 15, 16, 17, 18, 19, 20)\n",
      "1\n",
      "['Paris', 'Lisboa', 'Asuncion', 'Madrid', 'Roma', 'Tokio', 'Miami', 'Sidney', 'El Cairo', 'Brasilia']\n",
      "5\n"
     ]
    }
   ],
   "source": [
    "print(numeros)\n",
    "#En la tupla numeros cuento cuantas veces esta el numero 5:\n",
    "print(numeros.count(5))\n",
    "\n",
    "print(ciudades)\n",
    "#En la lista ciudades cuento cuantas veces esta la ciudad Tokio\n",
    "print(ciudades.index(\"Tokio\"))"
   ]
  },
  {
   "attachments": {},
   "cell_type": "markdown",
   "metadata": {},
   "source": [
    "21) Convertir la tupla en una lista"
   ]
  },
  {
   "cell_type": "code",
   "execution_count": 50,
   "metadata": {},
   "outputs": [
    {
     "name": "stdout",
     "output_type": "stream",
     "text": [
      "<class 'tuple'>\n",
      "(1, 2, 3, 4, 5, 6, 7, 8, 9, 10, 11, 12, 13, 14, 15, 16, 17, 18, 19, 20)\n",
      "<class 'list'>\n",
      "[1, 2, 3, 4, 5, 6, 7, 8, 9, 10, 11, 12, 13, 14, 15, 16, 17, 18, 19, 20]\n"
     ]
    }
   ],
   "source": [
    "print(type(numeros))\n",
    "print(numeros)\n",
    "\n",
    "numeros = list(numeros) #Transformo la tupla numeros en una lista\n",
    "print(type(numeros))\n",
    "print(numeros)\n",
    "\n"
   ]
  },
  {
   "attachments": {},
   "cell_type": "markdown",
   "metadata": {},
   "source": [
    "22) Desempaquetar solo los primeros 3 elementos de la tupla en 3 variables"
   ]
  },
  {
   "cell_type": "code",
   "execution_count": 54,
   "metadata": {},
   "outputs": [
    {
     "name": "stdout",
     "output_type": "stream",
     "text": [
      "1 2 3\n",
      "1 2 3\n"
     ]
    }
   ],
   "source": [
    "numeros = tuple(numeros)\n",
    "num1, num2, num3, *_ = numeros\n",
    "print(num1,num2,num3)\n",
    "#otra forma\n",
    "primero, segundo, tercero = numeros[0], numeros[1], numeros[2]\n",
    "print(primero,segundo,tercero)\n",
    "\n"
   ]
  },
  {
   "attachments": {},
   "cell_type": "markdown",
   "metadata": {},
   "source": [
    "23) Crear un diccionario utilizando la lista crada en el punto 1, asignandole la clave \"ciudad\". Agregar tambien otras claves, como puede ser \"Pais\" y \"Continente\"."
   ]
  },
  {
   "cell_type": "code",
   "execution_count": 1,
   "metadata": {},
   "outputs": [],
   "source": [
    "dicciudades ={\n",
    "    \"ciudad\" : [\"Paris\", \"Lisboa\", \"Miami\", \"Madrid\", \"Roma\", \"Tokio\"] ,\n",
    "    \"pais\" : [\"Francia\", \"Portugal\", \"EEUU\", \"España\", \"Italia\", \"Japon\"] ,\n",
    "    \"continente\" : [\"Europa\", \"Europa\", \"America\", \"Europa\", \"Oceania\"]\n",
    "}"
   ]
  },
  {
   "attachments": {},
   "cell_type": "markdown",
   "metadata": {},
   "source": [
    "24) Imprimir las claves del diccionario"
   ]
  },
  {
   "cell_type": "code",
   "execution_count": 6,
   "metadata": {},
   "outputs": [
    {
     "name": "stdout",
     "output_type": "stream",
     "text": [
      "dict_keys(['ciudad', 'pais', 'continente'])\n"
     ]
    }
   ],
   "source": [
    "print(dicciudades.keys())"
   ]
  },
  {
   "attachments": {},
   "cell_type": "markdown",
   "metadata": {},
   "source": [
    "25) Imprimir las ciudades a través de su clave"
   ]
  },
  {
   "cell_type": "code",
   "execution_count": 7,
   "metadata": {},
   "outputs": [
    {
     "name": "stdout",
     "output_type": "stream",
     "text": [
      "['Paris', 'Lisboa', 'Miami', 'Madrid', 'Roma', 'Tokio']\n"
     ]
    }
   ],
   "source": [
    "print(dicciudades[\"ciudad\"])"
   ]
  }
 ],
 "metadata": {
  "interpreter": {
   "hash": "c85384e4cb51c8b72350f3a8712cc8351fdc3955e32a27f9b60c6242ab125f01"
  },
  "kernelspec": {
   "display_name": "Python 3 (ipykernel)",
   "language": "python",
   "name": "python3"
  },
  "language_info": {
   "codemirror_mode": {
    "name": "ipython",
    "version": 3
   },
   "file_extension": ".py",
   "mimetype": "text/x-python",
   "name": "python",
   "nbconvert_exporter": "python",
   "pygments_lexer": "ipython3",
   "version": "3.11.2"
  }
 },
 "nbformat": 4,
 "nbformat_minor": 4
}
